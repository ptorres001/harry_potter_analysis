{
 "cells": [
  {
   "cell_type": "markdown",
   "metadata": {},
   "source": [
    "# Data Analysis"
   ]
  },
  {
   "cell_type": "code",
   "execution_count": 1,
   "metadata": {},
   "outputs": [],
   "source": [
    "import PyPDF2"
   ]
  },
  {
   "cell_type": "code",
   "execution_count": 3,
   "metadata": {},
   "outputs": [],
   "source": [
    "stone = open('sorcerers_stone.pdf',mode= 'rb')"
   ]
  },
  {
   "cell_type": "code",
   "execution_count": 4,
   "metadata": {},
   "outputs": [
    {
     "name": "stderr",
     "output_type": "stream",
     "text": [
      "PdfReadWarning: Xref table not zero-indexed. ID numbers for objects will be corrected. [pdf.py:1736]\n"
     ]
    }
   ],
   "source": [
    "pdf_reader = PyPDF2.PdfFileReader(stone)"
   ]
  },
  {
   "cell_type": "code",
   "execution_count": 5,
   "metadata": {},
   "outputs": [
    {
     "data": {
      "text/plain": [
       "250"
      ]
     },
     "execution_count": 5,
     "metadata": {},
     "output_type": "execute_result"
    }
   ],
   "source": [
    "pdf_reader.numPages"
   ]
  },
  {
   "cell_type": "code",
   "execution_count": 19,
   "metadata": {},
   "outputs": [],
   "source": [
    "page_one = pdf_reader.getPage(1)"
   ]
  },
  {
   "cell_type": "code",
   "execution_count": 20,
   "metadata": {},
   "outputs": [
    {
     "data": {
      "text/plain": [
       "\"1Harry Potter and the Sorcerer's Stone\\nCHAPTER ONE\\nTHE BOY WHO LIVED\\n\\nMr. and Mrs. Dursley, of number four, Privet Drive, were proud to say\\nthat they were perfectly normal, thank you very much. They were the last\\npeople you'd expect to be involved in anything strange or mysterious,\\n\\nbecause they just didn't hold with such nonsense.\\nMr. Dursley was the director of a firm called Grunnings, which made\\ndrills. He was a big, beefy man with hardly any neck, although he did\\nhave a very large mustache. Mrs. Dursley was thin and blonde and had\\nnearly twice the usual amount of neck, which came in very useful as she\\n\\nspent so much of her time craning over garden fences, spying on the\\n\\nneighbors. The Dursleys had a small son called Dudley and in their\\n\\nopinion there was no finer boy anywhere.\\nThe Dursleys had everything they wanted, but they also had a secret, and\\ntheir greatest fear was that somebody would discover it. They didn't\\n\\nthink they could bear it if anyone found out about the Potters. Mrs.\\n\\nPotter was Mrs. Dursley's sister, but they hadn't met for several years;\\n\\nin fact, Mrs. Dursley pretended she didn't have a sister, because her\\n\\nsister and her good-for-nothing husband were as unDursleyish as it was\\n\\npossible to be. The Dursleys shuddered to think what the neighbors would\\nsay if the Potters arrived in the street. The Dursleys knew that the\\nPotters had a small son, too, but they had never even seen him. This boy\\n\\nwas another good reason for keeping the Potters away; they didn't want\\n\\nDudley mixing with a child like that.\\nWhen Mr. and Mrs. Dursley woke up on the dull, gray Tuesday our story\\nstarts, there was nothing about the cloudy sky outside to suggest that\\nstrange and mysterious things would soon be happening all over the\\n\\ncountry. Mr. Dursley hummed as he picked out his most boring tie for\\n\\nwork, and Mrs. Dursley gossiped away happily as she wrestled a screaming\\n\\nDudley into his high chair.\\nNone of them noticed a large, tawny owl flutter past the window.\\nAt half past eight, Mr. Dursley picked up his briefcase, pecked Mrs.\\nDursley on the cheek, and tried to kiss Dudley good-bye but missed,\\n\""
      ]
     },
     "execution_count": 20,
     "metadata": {},
     "output_type": "execute_result"
    }
   ],
   "source": [
    "page_one.extractText()"
   ]
  },
  {
   "cell_type": "code",
   "execution_count": null,
   "metadata": {},
   "outputs": [],
   "source": []
  }
 ],
 "metadata": {
  "kernelspec": {
   "display_name": "Python 3",
   "language": "python",
   "name": "python3"
  },
  "language_info": {
   "codemirror_mode": {
    "name": "ipython",
    "version": 3
   },
   "file_extension": ".py",
   "mimetype": "text/x-python",
   "name": "python",
   "nbconvert_exporter": "python",
   "pygments_lexer": "ipython3",
   "version": "3.8.3"
  }
 },
 "nbformat": 4,
 "nbformat_minor": 4
}
